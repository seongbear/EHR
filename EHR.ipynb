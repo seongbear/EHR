{
 "cells": [
  {
   "cell_type": "code",
   "execution_count": 153,
   "id": "23165c60",
   "metadata": {},
   "outputs": [],
   "source": [
    "import math\n",
    "import numpy as np\n",
    "import pandas as pd \n",
    "import seaborn as sns\n",
    "import os\n",
    "import matplotlib.pyplot as plt\n",
    "\n",
    "from statsmodels.formula import api\n",
    "from sklearn.feature_selection import RFE\n",
    "from sklearn.preprocessing import StandardScaler\n",
    "from sklearn.model_selection import train_test_split\n",
    "from statsmodels.stats.outliers_influence import variance_inflation_factor"
   ]
  },
  {
   "cell_type": "code",
   "execution_count": 154,
   "id": "f47cf7d0",
   "metadata": {},
   "outputs": [
    {
     "name": "stdout",
     "output_type": "stream",
     "text": [
      "['.conda', '.condarc', '.continuum', '.ipynb_checkpoints', '.ipython', '.jupyter', '.matplotlib', '.mcu8051ide', '.packettracer', '.spyder-py3', '.vscode', '3D Objects', 'anaconda3', 'AppData', 'Application Data', 'Breast Cancer Wisconsin .ipynb', 'breast-cancer-wiscons.csv', 'Cisco Packet Tracer 8.2.1', 'Cleaned dataset clean again.ipynb', 'Contacts', 'Cookies', 'cpi.csv', 'Documents', 'Downloads', 'EHR-from-mendeley.csv', 'EHR.ipynb', 'Favorites', 'full_data.csv', 'geoProperties.csv', 'geo_attributes.csv', 'healthcare-dataset-stroke-data.csv', 'histFinal.csv', 'House Pricing.csv', 'IntelGraphicsProfiles', 'interest.csv', 'Links', 'Local Settings', 'mcu8051ide_errors.log', 'merged2.csv', 'merged3.csv', 'merged_data.csv', 'Microsoft', 'Music', 'My Documents', 'NetHood', 'NTUSER.DAT', 'ntuser.dat.LOG1', 'ntuser.dat.LOG2', 'NTUSER.DAT{fd4fe52f-96e2-11ed-9791-a6ed2054544c}.TM.blf', 'NTUSER.DAT{fd4fe52f-96e2-11ed-9791-a6ed2054544c}.TMContainer00000000000000000001.regtrans-ms', 'NTUSER.DAT{fd4fe52f-96e2-11ed-9791-a6ed2054544c}.TMContainer00000000000000000002.regtrans-ms', 'ntuser.ini', 'OneDrive', 'PCManger', 'pre2.csv', 'prediction.csv', 'prediction1010.csv', 'PrintHood', 'properties.csv', 'Recent', 'rentIndex.csv', 'sample_submission.csv', 'Saved Games', 'Searches', 'SendTo', 'Singapore Housing Price Prediction EDA.ipynb', 'Singapore Housing Price Prediction HistGradientBoostingRegressor.ipynb', 'Singapore Housing Price Prediction-Copy1.ipynb', 'Start Menu', 'Templates', 'test.csv', 'test1010.csv', 'testFinal.csv', 'testHousePrice.csv', 'Traffic Light', 'Traffic Light.adf', 'Traffic Light.adf~', 'Traffic Light.asm', 'Traffic Light.asm~', 'Traffic Light.bin', 'Traffic Light.bin~', 'Traffic Light.hex', 'Traffic Light.hex~', 'Traffic Light.lst', 'Traffic Light.lst~', 'train.csv', 'Untitled.ipynb', 'updated_testing_data.csv', 'vacant.csv', 'values.csv', 'Videos', 'WIA1006 Housing Price Prediction-Copy1.ipynb', 'WIA1006 Housing Price Prediction.ipynb']\n"
     ]
    }
   ],
   "source": [
    "print(os.listdir())"
   ]
  },
  {
   "cell_type": "code",
   "execution_count": 155,
   "id": "edc7ec45",
   "metadata": {},
   "outputs": [
    {
     "data": {
      "text/html": [
       "<div>\n",
       "<style scoped>\n",
       "    .dataframe tbody tr th:only-of-type {\n",
       "        vertical-align: middle;\n",
       "    }\n",
       "\n",
       "    .dataframe tbody tr th {\n",
       "        vertical-align: top;\n",
       "    }\n",
       "\n",
       "    .dataframe thead th {\n",
       "        text-align: right;\n",
       "    }\n",
       "</style>\n",
       "<table border=\"1\" class=\"dataframe\">\n",
       "  <thead>\n",
       "    <tr style=\"text-align: right;\">\n",
       "      <th></th>\n",
       "      <th>HAEMATOCRIT</th>\n",
       "      <th>HAEMOGLOBINS</th>\n",
       "      <th>ERYTHROCYTE</th>\n",
       "      <th>LEUCOCYTE</th>\n",
       "      <th>THROMBOCYTE</th>\n",
       "      <th>MCH</th>\n",
       "      <th>MCHC</th>\n",
       "      <th>MCV</th>\n",
       "      <th>AGE</th>\n",
       "      <th>SEX</th>\n",
       "      <th>SOURCE</th>\n",
       "    </tr>\n",
       "  </thead>\n",
       "  <tbody>\n",
       "    <tr>\n",
       "      <th>0</th>\n",
       "      <td>35.1</td>\n",
       "      <td>11.8</td>\n",
       "      <td>4.65</td>\n",
       "      <td>6.3</td>\n",
       "      <td>310</td>\n",
       "      <td>25.4</td>\n",
       "      <td>33.6</td>\n",
       "      <td>75.5</td>\n",
       "      <td>1</td>\n",
       "      <td>F</td>\n",
       "      <td>out</td>\n",
       "    </tr>\n",
       "    <tr>\n",
       "      <th>1</th>\n",
       "      <td>43.5</td>\n",
       "      <td>14.8</td>\n",
       "      <td>5.39</td>\n",
       "      <td>12.7</td>\n",
       "      <td>334</td>\n",
       "      <td>27.5</td>\n",
       "      <td>34.0</td>\n",
       "      <td>80.7</td>\n",
       "      <td>1</td>\n",
       "      <td>F</td>\n",
       "      <td>out</td>\n",
       "    </tr>\n",
       "    <tr>\n",
       "      <th>2</th>\n",
       "      <td>33.5</td>\n",
       "      <td>11.3</td>\n",
       "      <td>4.74</td>\n",
       "      <td>13.2</td>\n",
       "      <td>305</td>\n",
       "      <td>23.8</td>\n",
       "      <td>33.7</td>\n",
       "      <td>70.7</td>\n",
       "      <td>1</td>\n",
       "      <td>F</td>\n",
       "      <td>out</td>\n",
       "    </tr>\n",
       "    <tr>\n",
       "      <th>3</th>\n",
       "      <td>39.1</td>\n",
       "      <td>13.7</td>\n",
       "      <td>4.98</td>\n",
       "      <td>10.5</td>\n",
       "      <td>366</td>\n",
       "      <td>27.5</td>\n",
       "      <td>35.0</td>\n",
       "      <td>78.5</td>\n",
       "      <td>1</td>\n",
       "      <td>F</td>\n",
       "      <td>out</td>\n",
       "    </tr>\n",
       "    <tr>\n",
       "      <th>4</th>\n",
       "      <td>30.9</td>\n",
       "      <td>9.9</td>\n",
       "      <td>4.23</td>\n",
       "      <td>22.1</td>\n",
       "      <td>333</td>\n",
       "      <td>23.4</td>\n",
       "      <td>32.0</td>\n",
       "      <td>73.0</td>\n",
       "      <td>1</td>\n",
       "      <td>M</td>\n",
       "      <td>out</td>\n",
       "    </tr>\n",
       "  </tbody>\n",
       "</table>\n",
       "</div>"
      ],
      "text/plain": [
       "   HAEMATOCRIT  HAEMOGLOBINS  ERYTHROCYTE  LEUCOCYTE  THROMBOCYTE   MCH  MCHC  \\\n",
       "0         35.1          11.8         4.65        6.3          310  25.4  33.6   \n",
       "1         43.5          14.8         5.39       12.7          334  27.5  34.0   \n",
       "2         33.5          11.3         4.74       13.2          305  23.8  33.7   \n",
       "3         39.1          13.7         4.98       10.5          366  27.5  35.0   \n",
       "4         30.9           9.9         4.23       22.1          333  23.4  32.0   \n",
       "\n",
       "    MCV  AGE SEX SOURCE  \n",
       "0  75.5    1   F    out  \n",
       "1  80.7    1   F    out  \n",
       "2  70.7    1   F    out  \n",
       "3  78.5    1   F    out  \n",
       "4  73.0    1   M    out  "
      ]
     },
     "execution_count": 155,
     "metadata": {},
     "output_type": "execute_result"
    }
   ],
   "source": [
    "df = pd.read_csv(\"EHR-from-mendeley.csv\")\n",
    "EHR = df.copy(deep=True)\n",
    "target = 'SOURCE'\n",
    "EHR.head()"
   ]
  },
  {
   "cell_type": "code",
   "execution_count": 156,
   "id": "32a1d6b0",
   "metadata": {},
   "outputs": [
    {
     "name": "stdout",
     "output_type": "stream",
     "text": [
      "Sanity check complete.\n"
     ]
    }
   ],
   "source": [
    "#Sanity check \n",
    "def sanity_check(EHR):\n",
    "    # Check for duplicate rows\n",
    "    if EHR.duplicated().sum() > 0:\n",
    "        print(\"WARNING: Duplicate rows found in DataFrame.\") \n",
    "    \n",
    "    # Check for missing values\n",
    "    if EHR.isnull().sum().sum() > 0:\n",
    "        print(\"WARNING: Missing values found in DataFrame.\")\n",
    "\n",
    "    # Check for negative values (assuming all numeric columns should be non-negative)\n",
    "    if (EHR.select_dtypes(include=['number']) < 0).sum().sum() > 0:\n",
    "        print(\"WARNING: Negative values found in numeric columns.\")\n",
    "    \n",
    "    # Check for zero values (assuming all numeric columns should be non-zero)\n",
    "    if (EHR.select_dtypes(include=['number']) == 0).sum().sum() > 0:\n",
    "        print(\"WARNING: Zero values found in numeric columns.\")\n",
    "    \n",
    "    # Check for non-numeric values (assuming all columns should be numeric)\n",
    "    non_numeric = EHR.apply(lambda s: bool(re.match(r'^[^\\d-]+$', str(s))))\n",
    "    if non_numeric.sum().sum() > 0:\n",
    "        print(\"WARNING: Non-numeric values found in DataFrame.\")\n",
    "        \n",
    "print(\"Sanity check complete.\") "
   ]
  },
  {
   "cell_type": "code",
   "execution_count": 157,
   "id": "d0934a2c",
   "metadata": {},
   "outputs": [
    {
     "name": "stdout",
     "output_type": "stream",
     "text": [
      "              Missing Value Count  Missing Value Availability\n",
      "HAEMATOCRIT                     0                       False\n",
      "HAEMOGLOBINS                    0                       False\n",
      "ERYTHROCYTE                     0                       False\n",
      "LEUCOCYTE                       0                       False\n",
      "THROMBOCYTE                     0                       False\n",
      "MCH                             0                       False\n",
      "MCHC                            0                       False\n",
      "MCV                             0                       False\n",
      "AGE                             0                       False\n",
      "SEX                             0                       False\n",
      "SOURCE                          0                       False\n"
     ]
    }
   ],
   "source": [
    "#Determining missing values \n",
    "missing_values = [np.nan]\n",
    "clean_df= EHR.copy()\n",
    "missing_count = clean_df.isnull().sum()\n",
    "missing_bool = clean_df.isnull().any()\n",
    "missing_df= pd.DataFrame({'Missing Value Count':missing_count, 'Missing Value Availability': missing_bool})\n",
    "print(missing_df)"
   ]
  },
  {
   "cell_type": "code",
   "execution_count": 158,
   "id": "ee3ae851",
   "metadata": {
    "scrolled": true
   },
   "outputs": [
    {
     "data": {
      "text/html": [
       "<div>\n",
       "<style scoped>\n",
       "    .dataframe tbody tr th:only-of-type {\n",
       "        vertical-align: middle;\n",
       "    }\n",
       "\n",
       "    .dataframe tbody tr th {\n",
       "        vertical-align: top;\n",
       "    }\n",
       "\n",
       "    .dataframe thead th {\n",
       "        text-align: right;\n",
       "    }\n",
       "</style>\n",
       "<table border=\"1\" class=\"dataframe\">\n",
       "  <thead>\n",
       "    <tr style=\"text-align: right;\">\n",
       "      <th></th>\n",
       "      <th>HAEMATOCRIT</th>\n",
       "      <th>HAEMOGLOBINS</th>\n",
       "      <th>ERYTHROCYTE</th>\n",
       "      <th>LEUCOCYTE</th>\n",
       "      <th>THROMBOCYTE</th>\n",
       "      <th>MCH</th>\n",
       "      <th>MCHC</th>\n",
       "      <th>MCV</th>\n",
       "      <th>AGE</th>\n",
       "      <th>SEX</th>\n",
       "      <th>SOURCE</th>\n",
       "    </tr>\n",
       "  </thead>\n",
       "  <tbody>\n",
       "    <tr>\n",
       "      <th>0</th>\n",
       "      <td>35.1</td>\n",
       "      <td>11.8</td>\n",
       "      <td>4.65</td>\n",
       "      <td>6.3</td>\n",
       "      <td>310</td>\n",
       "      <td>25.4</td>\n",
       "      <td>33.6</td>\n",
       "      <td>75.5</td>\n",
       "      <td>1</td>\n",
       "      <td>F</td>\n",
       "      <td>out</td>\n",
       "    </tr>\n",
       "    <tr>\n",
       "      <th>1</th>\n",
       "      <td>43.5</td>\n",
       "      <td>14.8</td>\n",
       "      <td>5.39</td>\n",
       "      <td>12.7</td>\n",
       "      <td>334</td>\n",
       "      <td>27.5</td>\n",
       "      <td>34.0</td>\n",
       "      <td>80.7</td>\n",
       "      <td>1</td>\n",
       "      <td>F</td>\n",
       "      <td>out</td>\n",
       "    </tr>\n",
       "    <tr>\n",
       "      <th>2</th>\n",
       "      <td>33.5</td>\n",
       "      <td>11.3</td>\n",
       "      <td>4.74</td>\n",
       "      <td>13.2</td>\n",
       "      <td>305</td>\n",
       "      <td>23.8</td>\n",
       "      <td>33.7</td>\n",
       "      <td>70.7</td>\n",
       "      <td>1</td>\n",
       "      <td>F</td>\n",
       "      <td>out</td>\n",
       "    </tr>\n",
       "    <tr>\n",
       "      <th>3</th>\n",
       "      <td>39.1</td>\n",
       "      <td>13.7</td>\n",
       "      <td>4.98</td>\n",
       "      <td>10.5</td>\n",
       "      <td>366</td>\n",
       "      <td>27.5</td>\n",
       "      <td>35.0</td>\n",
       "      <td>78.5</td>\n",
       "      <td>1</td>\n",
       "      <td>F</td>\n",
       "      <td>out</td>\n",
       "    </tr>\n",
       "    <tr>\n",
       "      <th>4</th>\n",
       "      <td>30.9</td>\n",
       "      <td>9.9</td>\n",
       "      <td>4.23</td>\n",
       "      <td>22.1</td>\n",
       "      <td>333</td>\n",
       "      <td>23.4</td>\n",
       "      <td>32.0</td>\n",
       "      <td>73.0</td>\n",
       "      <td>1</td>\n",
       "      <td>M</td>\n",
       "      <td>out</td>\n",
       "    </tr>\n",
       "  </tbody>\n",
       "</table>\n",
       "</div>"
      ],
      "text/plain": [
       "   HAEMATOCRIT  HAEMOGLOBINS  ERYTHROCYTE  LEUCOCYTE  THROMBOCYTE   MCH  MCHC  \\\n",
       "0         35.1          11.8         4.65        6.3          310  25.4  33.6   \n",
       "1         43.5          14.8         5.39       12.7          334  27.5  34.0   \n",
       "2         33.5          11.3         4.74       13.2          305  23.8  33.7   \n",
       "3         39.1          13.7         4.98       10.5          366  27.5  35.0   \n",
       "4         30.9           9.9         4.23       22.1          333  23.4  32.0   \n",
       "\n",
       "    MCV  AGE SEX SOURCE  \n",
       "0  75.5    1   F    out  \n",
       "1  80.7    1   F    out  \n",
       "2  70.7    1   F    out  \n",
       "3  78.5    1   F    out  \n",
       "4  73.0    1   M    out  "
      ]
     },
     "execution_count": 158,
     "metadata": {},
     "output_type": "execute_result"
    }
   ],
   "source": [
    "#Clean duplicates \n",
    "subnet = ['HAEMATOCRIT','HAEMOGLOBINS','ERYTHROCYTE','LEUCOCYTE','THROMBOCYTE','MCH','MCHC','MCV','AGE','SEX','SOURCE']\n",
    "clean_df.drop_duplicates(subnet).head()"
   ]
  },
  {
   "cell_type": "code",
   "execution_count": 159,
   "id": "2ee633b5",
   "metadata": {},
   "outputs": [
    {
     "name": "stdout",
     "output_type": "stream",
     "text": [
      "\n",
      " The Datset has 9 numerical & 2 categorical features.\n"
     ]
    }
   ],
   "source": [
    "#Checking number of unique rows in each feature \n",
    "nu = clean_df[subnet].nunique().sort_values()\n",
    "#Numerical & Categorical features\n",
    "nf = [];\n",
    "cf = [];\n",
    "nnf = 0;\n",
    "ncf = 0;\n",
    "\n",
    "for i in range (df[subnet].shape[1]):\n",
    "    if nu.values[i]<=16:cf.append(nu.index[i])\n",
    "    else: nf.append(nu.index[i])\n",
    "\n",
    "print ('\\n The Datset has {} numerical & {} categorical features.'.format(len(nf),len(cf)))"
   ]
  },
  {
   "cell_type": "code",
   "execution_count": 160,
   "id": "b87c05b0",
   "metadata": {},
   "outputs": [
    {
     "name": "stdout",
     "output_type": "stream",
     "text": [
      "\u001b[1mOne-Hot Encoding on features:\u001b[0m\n",
      "SEX\n",
      "SOURCE\n",
      "\n",
      "Converted DataFrame shape:  (4412, 11)\n"
     ]
    },
    {
     "data": {
      "text/html": [
       "<div>\n",
       "<style scoped>\n",
       "    .dataframe tbody tr th:only-of-type {\n",
       "        vertical-align: middle;\n",
       "    }\n",
       "\n",
       "    .dataframe tbody tr th {\n",
       "        vertical-align: top;\n",
       "    }\n",
       "\n",
       "    .dataframe thead th {\n",
       "        text-align: right;\n",
       "    }\n",
       "</style>\n",
       "<table border=\"1\" class=\"dataframe\">\n",
       "  <thead>\n",
       "    <tr style=\"text-align: right;\">\n",
       "      <th></th>\n",
       "      <th>HAEMATOCRIT</th>\n",
       "      <th>HAEMOGLOBINS</th>\n",
       "      <th>ERYTHROCYTE</th>\n",
       "      <th>LEUCOCYTE</th>\n",
       "      <th>THROMBOCYTE</th>\n",
       "      <th>MCH</th>\n",
       "      <th>MCHC</th>\n",
       "      <th>MCV</th>\n",
       "      <th>AGE</th>\n",
       "      <th>SEX</th>\n",
       "      <th>SOURCE</th>\n",
       "    </tr>\n",
       "  </thead>\n",
       "  <tbody>\n",
       "    <tr>\n",
       "      <th>0</th>\n",
       "      <td>35.1</td>\n",
       "      <td>11.8</td>\n",
       "      <td>4.65</td>\n",
       "      <td>6.3</td>\n",
       "      <td>310</td>\n",
       "      <td>25.4</td>\n",
       "      <td>33.6</td>\n",
       "      <td>75.5</td>\n",
       "      <td>1</td>\n",
       "      <td>0</td>\n",
       "      <td>1</td>\n",
       "    </tr>\n",
       "    <tr>\n",
       "      <th>1</th>\n",
       "      <td>43.5</td>\n",
       "      <td>14.8</td>\n",
       "      <td>5.39</td>\n",
       "      <td>12.7</td>\n",
       "      <td>334</td>\n",
       "      <td>27.5</td>\n",
       "      <td>34.0</td>\n",
       "      <td>80.7</td>\n",
       "      <td>1</td>\n",
       "      <td>0</td>\n",
       "      <td>1</td>\n",
       "    </tr>\n",
       "    <tr>\n",
       "      <th>2</th>\n",
       "      <td>33.5</td>\n",
       "      <td>11.3</td>\n",
       "      <td>4.74</td>\n",
       "      <td>13.2</td>\n",
       "      <td>305</td>\n",
       "      <td>23.8</td>\n",
       "      <td>33.7</td>\n",
       "      <td>70.7</td>\n",
       "      <td>1</td>\n",
       "      <td>0</td>\n",
       "      <td>1</td>\n",
       "    </tr>\n",
       "    <tr>\n",
       "      <th>3</th>\n",
       "      <td>39.1</td>\n",
       "      <td>13.7</td>\n",
       "      <td>4.98</td>\n",
       "      <td>10.5</td>\n",
       "      <td>366</td>\n",
       "      <td>27.5</td>\n",
       "      <td>35.0</td>\n",
       "      <td>78.5</td>\n",
       "      <td>1</td>\n",
       "      <td>0</td>\n",
       "      <td>1</td>\n",
       "    </tr>\n",
       "    <tr>\n",
       "      <th>4</th>\n",
       "      <td>30.9</td>\n",
       "      <td>9.9</td>\n",
       "      <td>4.23</td>\n",
       "      <td>22.1</td>\n",
       "      <td>333</td>\n",
       "      <td>23.4</td>\n",
       "      <td>32.0</td>\n",
       "      <td>73.0</td>\n",
       "      <td>1</td>\n",
       "      <td>1</td>\n",
       "      <td>1</td>\n",
       "    </tr>\n",
       "    <tr>\n",
       "      <th>...</th>\n",
       "      <td>...</td>\n",
       "      <td>...</td>\n",
       "      <td>...</td>\n",
       "      <td>...</td>\n",
       "      <td>...</td>\n",
       "      <td>...</td>\n",
       "      <td>...</td>\n",
       "      <td>...</td>\n",
       "      <td>...</td>\n",
       "      <td>...</td>\n",
       "      <td>...</td>\n",
       "    </tr>\n",
       "    <tr>\n",
       "      <th>4407</th>\n",
       "      <td>32.8</td>\n",
       "      <td>10.4</td>\n",
       "      <td>3.49</td>\n",
       "      <td>8.1</td>\n",
       "      <td>72</td>\n",
       "      <td>29.8</td>\n",
       "      <td>31.7</td>\n",
       "      <td>94.0</td>\n",
       "      <td>92</td>\n",
       "      <td>0</td>\n",
       "      <td>0</td>\n",
       "    </tr>\n",
       "    <tr>\n",
       "      <th>4408</th>\n",
       "      <td>33.7</td>\n",
       "      <td>10.8</td>\n",
       "      <td>3.67</td>\n",
       "      <td>6.7</td>\n",
       "      <td>70</td>\n",
       "      <td>29.4</td>\n",
       "      <td>32.0</td>\n",
       "      <td>91.8</td>\n",
       "      <td>92</td>\n",
       "      <td>0</td>\n",
       "      <td>0</td>\n",
       "    </tr>\n",
       "    <tr>\n",
       "      <th>4409</th>\n",
       "      <td>33.2</td>\n",
       "      <td>11.2</td>\n",
       "      <td>3.47</td>\n",
       "      <td>7.2</td>\n",
       "      <td>235</td>\n",
       "      <td>32.3</td>\n",
       "      <td>33.7</td>\n",
       "      <td>95.7</td>\n",
       "      <td>93</td>\n",
       "      <td>0</td>\n",
       "      <td>1</td>\n",
       "    </tr>\n",
       "    <tr>\n",
       "      <th>4410</th>\n",
       "      <td>31.5</td>\n",
       "      <td>10.4</td>\n",
       "      <td>3.15</td>\n",
       "      <td>9.1</td>\n",
       "      <td>187</td>\n",
       "      <td>33.0</td>\n",
       "      <td>33.0</td>\n",
       "      <td>100.0</td>\n",
       "      <td>98</td>\n",
       "      <td>0</td>\n",
       "      <td>0</td>\n",
       "    </tr>\n",
       "    <tr>\n",
       "      <th>4411</th>\n",
       "      <td>33.5</td>\n",
       "      <td>10.9</td>\n",
       "      <td>3.44</td>\n",
       "      <td>5.8</td>\n",
       "      <td>275</td>\n",
       "      <td>31.7</td>\n",
       "      <td>32.5</td>\n",
       "      <td>97.4</td>\n",
       "      <td>99</td>\n",
       "      <td>0</td>\n",
       "      <td>1</td>\n",
       "    </tr>\n",
       "  </tbody>\n",
       "</table>\n",
       "<p>4412 rows × 11 columns</p>\n",
       "</div>"
      ],
      "text/plain": [
       "      HAEMATOCRIT  HAEMOGLOBINS  ERYTHROCYTE  LEUCOCYTE  THROMBOCYTE   MCH  \\\n",
       "0            35.1          11.8         4.65        6.3          310  25.4   \n",
       "1            43.5          14.8         5.39       12.7          334  27.5   \n",
       "2            33.5          11.3         4.74       13.2          305  23.8   \n",
       "3            39.1          13.7         4.98       10.5          366  27.5   \n",
       "4            30.9           9.9         4.23       22.1          333  23.4   \n",
       "...           ...           ...          ...        ...          ...   ...   \n",
       "4407         32.8          10.4         3.49        8.1           72  29.8   \n",
       "4408         33.7          10.8         3.67        6.7           70  29.4   \n",
       "4409         33.2          11.2         3.47        7.2          235  32.3   \n",
       "4410         31.5          10.4         3.15        9.1          187  33.0   \n",
       "4411         33.5          10.9         3.44        5.8          275  31.7   \n",
       "\n",
       "      MCHC    MCV  AGE  SEX  SOURCE  \n",
       "0     33.6   75.5    1    0       1  \n",
       "1     34.0   80.7    1    0       1  \n",
       "2     33.7   70.7    1    0       1  \n",
       "3     35.0   78.5    1    0       1  \n",
       "4     32.0   73.0    1    1       1  \n",
       "...    ...    ...  ...  ...     ...  \n",
       "4407  31.7   94.0   92    0       0  \n",
       "4408  32.0   91.8   92    0       0  \n",
       "4409  33.7   95.7   93    0       1  \n",
       "4410  33.0  100.0   98    0       0  \n",
       "4411  32.5   97.4   99    0       1  \n",
       "\n",
       "[4412 rows x 11 columns]"
      ]
     },
     "execution_count": 160,
     "metadata": {},
     "output_type": "execute_result"
    }
   ],
   "source": [
    "convert_df = clean_df.copy()\n",
    "nvc = convert_df.isnull().sum()\n",
    "ecc = nvc[nvc!=0].index.values\n",
    "fcc = [i for i in cf if i not in ecc]\n",
    "\n",
    "#One-Hot Binay Encoding\n",
    "oh_flag=True\n",
    "dm_flag=True\n",
    "\n",
    "for i in fcc:\n",
    "    if convert_df[i].nunique()==2:\n",
    "        if oh_flag:\n",
    "            print(\"\\033[1mOne-Hot Encoding on features:\\033[0m\")\n",
    "            oh_flag = False\n",
    "        print(i)\n",
    "        convert_df[i] = pd.get_dummies(convert_df[i], drop_first=True, prefix=str(i))\n",
    "    if (convert_df[i].nunique()>2 and convert_df[i].nunique()<17):\n",
    "        if dm_flag:\n",
    "            print(\"\\n\\033[1mDummy Encoding on features:\\033[0m\")\n",
    "            dm_flag = False\n",
    "        print(i)\n",
    "        convert_df = pd.concat([convert_df.drop([i], axis=1), pd.DataFrame(pd.get_dummies(convert_df[i], drop_first=True, prefix=str(i)))],axis=1)\n",
    "\n",
    "print(\"\\nConverted DataFrame shape: \", convert_df.shape)\n",
    "\n",
    "convert_df"
   ]
  },
  {
   "cell_type": "code",
   "execution_count": 161,
   "id": "3d0e25b0",
   "metadata": {},
   "outputs": [
    {
     "name": "stdout",
     "output_type": "stream",
     "text": [
      "After the cleanup process, 0 samples were dropped, while retaining 0.0% of the data.\n"
     ]
    },
    {
     "data": {
      "text/html": [
       "<div>\n",
       "<style scoped>\n",
       "    .dataframe tbody tr th:only-of-type {\n",
       "        vertical-align: middle;\n",
       "    }\n",
       "\n",
       "    .dataframe tbody tr th {\n",
       "        vertical-align: top;\n",
       "    }\n",
       "\n",
       "    .dataframe thead th {\n",
       "        text-align: right;\n",
       "    }\n",
       "</style>\n",
       "<table border=\"1\" class=\"dataframe\">\n",
       "  <thead>\n",
       "    <tr style=\"text-align: right;\">\n",
       "      <th></th>\n",
       "      <th>Status</th>\n",
       "      <th>Number of samples</th>\n",
       "      <th>Percentage</th>\n",
       "    </tr>\n",
       "  </thead>\n",
       "  <tbody>\n",
       "    <tr>\n",
       "      <th>0</th>\n",
       "      <td>Retained</td>\n",
       "      <td>4412</td>\n",
       "      <td>100.0</td>\n",
       "    </tr>\n",
       "    <tr>\n",
       "      <th>1</th>\n",
       "      <td>Dropped</td>\n",
       "      <td>0</td>\n",
       "      <td>0.0</td>\n",
       "    </tr>\n",
       "  </tbody>\n",
       "</table>\n",
       "</div>"
      ],
      "text/plain": [
       "     Status  Number of samples  Percentage\n",
       "0  Retained               4412       100.0\n",
       "1   Dropped                  0         0.0"
      ]
     },
     "execution_count": 161,
     "metadata": {},
     "output_type": "execute_result"
    }
   ],
   "source": [
    "#Final Dataset size after performing Preprocessing\n",
    "final_df = convert_df.copy()\n",
    "convert_df.columns=[i.replace('-','_') for i in clean_df.columns]\n",
    "\n",
    "# define the data\n",
    "data = {'Status': ['Retained', 'Dropped'],\n",
    "        'Number of samples': [final_df.shape[0], clean_df.shape[0]-final_df.shape[0]],\n",
    "        'Percentage': [round(final_df.shape[0]*100/(clean_df.shape[0]), 2), round((clean_df.shape[0]-final_df.shape[0])*100/(clean_df.shape[0]), 2)]}\n",
    "\n",
    "# create a DataFrame\n",
    "dt = pd.DataFrame(data)\n",
    "\n",
    "# create a Styler object for formatting\n",
    "dt.style.format({'Number of samples': '{:,.0f}', 'Percentage': '{:.2f}%'}).bar(subset=['Percentage'], color='#5fba7d', vmin=0, vmax=100)\n",
    "\n",
    "print(f'After the cleanup process, {clean_df.shape[0]-final_df.shape[0]} samples were dropped, \\\n",
    "while retaining {round(100 - (final_df.shape[0]*100/(clean_df.shape[0])),2)}% of the data.')\n",
    "\n",
    "# display the table\n",
    "dt"
   ]
  },
  {
   "cell_type": "code",
   "execution_count": 162,
   "id": "5998a8ee",
   "metadata": {},
   "outputs": [
    {
     "name": "stdout",
     "output_type": "stream",
     "text": [
      "                             \u001b[1mCorrelation Matrix                             \n"
     ]
    },
    {
     "data": {
      "image/png": "[encoded data removed]",
      "text/plain": [
       "<Figure size 1000x1000 with 2 Axes>"
      ]
     },
     "metadata": {},
     "output_type": "display_data"
    }
   ],
   "source": [
    "print ('\\033[1mCorrelation Matrix'.center(80))\n",
    "plt.figure(figsize=[10,10])\n",
    "sns.heatmap(final_df.corr(),annot=True, vmin=-1, vmax=1, center=0)\n",
    "plt.show()"
   ]
  },
  {
   "cell_type": "markdown",
   "id": "9733345b",
   "metadata": {},
   "source": [
    "# Checking correlation-based feature selection"
   ]
  },
  {
   "cell_type": "raw",
   "id": "218347f2",
   "metadata": {},
   "source": [
    "from sklearn.feature_selection import SelectKBest, f_classif\n",
    "# Perform correlation-based feature selection\n",
    "selector = SelectKBest(score_func=f_classif, k=8)\n",
    "selector.fit(X, y)\n",
    "\n",
    "# Get selected features\n",
    "selected_features = X.columns[selector.get_support()]\n",
    "\n",
    "# Use selected features for classification\n",
    "X = X[selected_features]"
   ]
  },
  {
   "cell_type": "markdown",
   "id": "3efe7e3a",
   "metadata": {},
   "source": [
    "# Random Forest Classification"
   ]
  },
  {
   "cell_type": "code",
   "execution_count": 163,
   "id": "43453da9",
   "metadata": {},
   "outputs": [
    {
     "name": "stdout",
     "output_type": "stream",
     "text": [
      "Accuracy score 0.7605740181268882\n"
     ]
    }
   ],
   "source": [
    "from sklearn.ensemble import RandomForestClassifier\n",
    "\n",
    "# Split data into features and target\n",
    "X = final_df.drop('SOURCE', axis=1)\n",
    "y = final_df['SOURCE']\n",
    "\n",
    "classifier = RandomForestClassifier(n_estimators=100, criterion='gini')\n",
    "classifier.fit(X_train, y_train)\n",
    "rfc_acc = classifier.score(X_test, y_test)\n",
    "print('Accuracy score',rfc_acc)    "
   ]
  },
  {
   "cell_type": "markdown",
   "id": "01492419",
   "metadata": {},
   "source": [
    "# Support Vector Classifier "
   ]
  },
  {
   "cell_type": "code",
   "execution_count": 164,
   "id": "d2ef3a5e",
   "metadata": {},
   "outputs": [
    {
     "name": "stdout",
     "output_type": "stream",
     "text": [
      "              precision    recall  f1-score   support\n",
      "\n",
      "     class 0       0.75      0.50      0.60       540\n",
      "     class 1       0.72      0.88      0.79       784\n",
      "\n",
      "    accuracy                           0.73      1324\n",
      "   macro avg       0.73      0.69      0.69      1324\n",
      "weighted avg       0.73      0.73      0.71      1324\n",
      "\n",
      "\n",
      "Accuracy Score: 0.7258308157099698\n"
     ]
    }
   ],
   "source": [
    "from sklearn.svm import SVC\n",
    "from sklearn.metrics import accuracy_score\n",
    "classifier = SVC(kernel = 'linear', random_state = 0)\n",
    "classifier.fit(X_train, y_train)\n",
    "Y_Pred_svm = classifier.predict(X_test)\n",
    "\n",
    "from sklearn.metrics import classification_report\n",
    "target_names = ['class 0', 'class 1']\n",
    "print(classification_report(y_test, Y_Pred_svm , target_names=target_names))\n",
    "svc_acc = accuracy_score(y_test,Y_Pred_svm)\n",
    "print(\"\\nAccuracy Score:\", svc_acc)"
   ]
  },
  {
   "cell_type": "markdown",
   "id": "c09f807a",
   "metadata": {},
   "source": [
    "# Bagging Classifier "
   ]
  },
  {
   "cell_type": "code",
   "execution_count": 165,
   "id": "933a94ad",
   "metadata": {},
   "outputs": [
    {
     "name": "stderr",
     "output_type": "stream",
     "text": [
      "C:\\Users\\mingc\\anaconda3\\lib\\site-packages\\sklearn\\ensemble\\_base.py:166: FutureWarning: `base_estimator` was renamed to `estimator` in version 1.2 and will be removed in 1.4.\n",
      "  warnings.warn(\n"
     ]
    },
    {
     "name": "stdout",
     "output_type": "stream",
     "text": [
      "Test set accuracy of bc: 0.75377644\n"
     ]
    }
   ],
   "source": [
    "from sklearn.tree import DecisionTreeClassifier\n",
    "from sklearn.ensemble import BaggingClassifier\n",
    "\n",
    "dt = DecisionTreeClassifier(min_samples_leaf=8, random_state=1)\n",
    "bc = BaggingClassifier(base_estimator=dt, n_estimators=50, random_state=1)\n",
    "bc.fit(X_train, y_train)\n",
    "y_pred = bc.predict(X_test)\n",
    "bc_acc = accuracy_score(y_test, y_pred)\n",
    "print('Test set accuracy of bc: {:.8f}'.format(bc_acc)) "
   ]
  },
  {
   "cell_type": "markdown",
   "id": "47c00a17",
   "metadata": {},
   "source": [
    "# Gradient Boosting Classifier  "
   ]
  },
  {
   "cell_type": "code",
   "execution_count": 166,
   "id": "c2d18652",
   "metadata": {
    "scrolled": true
   },
   "outputs": [
    {
     "name": "stdout",
     "output_type": "stream",
     "text": [
      "              precision    recall  f1-score   support\n",
      "\n",
      "     class 0       0.70      0.61      0.65       540\n",
      "     class 1       0.75      0.82      0.79       784\n",
      "\n",
      "    accuracy                           0.73      1324\n",
      "   macro avg       0.73      0.71      0.72      1324\n",
      "weighted avg       0.73      0.73      0.73      1324\n",
      "\n",
      "Accuracy Score:  0.7341389728096677\n"
     ]
    }
   ],
   "source": [
    "from sklearn.ensemble import GradientBoostingClassifier\n",
    "from sklearn.metrics import accuracy_score\n",
    "\n",
    "clf = GradientBoostingClassifier(n_estimators=100, learning_rate=1.0, max_depth=1)\n",
    "clf.fit(X_train, y_train)\n",
    "Y_Pred_boost = clf.predict(X_test)\n",
    "gbc_acc = accuracy_score(y_test, Y_Pred_boost)\n",
    "from sklearn.metrics import classification_report\n",
    "target_names = ['class 0', 'class 1']\n",
    "print(classification_report(y_test, Y_Pred_boost , target_names=target_names))\n",
    "print('Accuracy Score: ',gbc_acc)"
   ]
  },
  {
   "cell_type": "markdown",
   "id": "7eccf958",
   "metadata": {},
   "source": [
    "# ADA Boost Classifier "
   ]
  },
  {
   "cell_type": "code",
   "execution_count": 167,
   "id": "054319fc",
   "metadata": {},
   "outputs": [
    {
     "name": "stderr",
     "output_type": "stream",
     "text": [
      "C:\\Users\\mingc\\anaconda3\\lib\\site-packages\\sklearn\\ensemble\\_base.py:166: FutureWarning: `base_estimator` was renamed to `estimator` in version 1.2 and will be removed in 1.4.\n",
      "  warnings.warn(\n"
     ]
    },
    {
     "name": "stdout",
     "output_type": "stream",
     "text": [
      "              precision    recall  f1-score   support\n",
      "\n",
      "     class 0       0.73      0.61      0.67       540\n",
      "     class 1       0.76      0.85      0.80       784\n",
      "\n",
      "    accuracy                           0.75      1324\n",
      "   macro avg       0.75      0.73      0.73      1324\n",
      "weighted avg       0.75      0.75      0.75      1324\n",
      "\n",
      "Accuracy Score:  0.75\n"
     ]
    }
   ],
   "source": [
    "from sklearn.ensemble import AdaBoostClassifier\n",
    "from sklearn.preprocessing import LabelEncoder\n",
    "from sklearn.tree import DecisionTreeClassifier\n",
    "from sklearn import metrics\n",
    "from sklearn.metrics import accuracy_score    \n",
    "\n",
    "model = DecisionTreeClassifier(criterion='entropy', max_depth=1)\n",
    "AdaBoost = AdaBoostClassifier(base_estimator=model, n_estimators=50, learning_rate=1)\n",
    "boostmodel = AdaBoost.fit(X_train, y_train)\n",
    "y_pred_ada = boostmodel.predict(X_test)\n",
    "ada_acc = accuracy_score(y_test,y_pred_ada)\n",
    "from sklearn.metrics import classification_report\n",
    "target_names = ['class 0', 'class 1']\n",
    "print(classification_report(y_test, y_pred_ada , target_names=target_names))\n",
    "print('Accuracy Score: ',ada_acc)"
   ]
  },
  {
   "cell_type": "markdown",
   "id": "b8d54174",
   "metadata": {},
   "source": [
    "# KNN Classifier "
   ]
  },
  {
   "cell_type": "code",
   "execution_count": 168,
   "id": "a98a40e9",
   "metadata": {},
   "outputs": [
    {
     "name": "stdout",
     "output_type": "stream",
     "text": [
      "Test set accuracy of bc: 0.68580060\n"
     ]
    }
   ],
   "source": [
    "from sklearn.neighbors import KNeighborsClassifier\n",
    "neigh = KNeighborsClassifier(n_neighbors=3)\n",
    "neigh.fit(X_train, y_train)\n",
    "predic_knn=neigh.predict(X_test)\n",
    "acc_test = accuracy_score(y_test, predic_knn)\n",
    "print('Test set accuracy of bc: {:.8f}'.format(acc_test)) "
   ]
  },
  {
   "cell_type": "code",
   "execution_count": 169,
   "id": "42cbf3b9",
   "metadata": {
    "scrolled": false
   },
   "outputs": [
    {
     "data": {
      "image/png": "[encoded data removed]",
      "text/plain": [
       "<Figure size 640x480 with 1 Axes>"
      ]
     },
     "metadata": {},
     "output_type": "display_data"
    }
   ],
   "source": [
    "import matplotlib.pyplot as plt\n",
    "import numpy as np\n",
    "from sklearn.neighbors import KNeighborsClassifier\n",
    "from sklearn.model_selection import validation_curve\n",
    "parameter_range = np.arange(1, 10, 1)\n",
    "train_score, test_score = validation_curve(KNeighborsClassifier(), X_test, y_test,\n",
    "                                       param_name = \"n_neighbors\",\n",
    "                                       param_range = parameter_range,\n",
    "                                        cv = 5, scoring = \"accuracy\")\n",
    "\n",
    "mean_train_score = np.mean(train_score, axis = 1)\n",
    "std_train_score = np.std(train_score, axis = 1)\n",
    "mean_test_score = np.mean(test_score, axis = 1)\n",
    "std_test_score = np.std(test_score, axis = 1)\n",
    "\n",
    "plt.plot(parameter_range, mean_train_score,\n",
    "     label = \"Training Score\", color = 'b')\n",
    "plt.plot(parameter_range, mean_test_score,\n",
    "   label = \"Cross Validation Score\", color = 'r')\n",
    "\n",
    "plt.title(\"Validation Curve with KNN Classifier\")\n",
    "plt.xlabel(\"Number of Neighbours\")\n",
    "plt.ylabel(\"Accuracy\")\n",
    "plt.tight_layout()\n",
    "plt.legend(loc = 'best')\n",
    "plt.show()"
   ]
  },
  {
   "cell_type": "markdown",
   "id": "f2207d2f",
   "metadata": {},
   "source": [
    "# Naive Bayes Classification"
   ]
  },
  {
   "cell_type": "code",
   "execution_count": 170,
   "id": "3eb4719f",
   "metadata": {
    "scrolled": true
   },
   "outputs": [
    {
     "name": "stdout",
     "output_type": "stream",
     "text": [
      "              precision    recall  f1-score   support\n",
      "\n",
      "     class 0       0.66      0.48      0.55       540\n",
      "     class 1       0.70      0.83      0.76       784\n",
      "\n",
      "    accuracy                           0.69      1324\n",
      "   macro avg       0.68      0.65      0.66      1324\n",
      "weighted avg       0.68      0.69      0.67      1324\n",
      "\n",
      "Accuracy Score:  0.6850453172205438\n"
     ]
    }
   ],
   "source": [
    "import sklearn.naive_bayes as nb\n",
    "from sklearn.metrics import accuracy_score\n",
    "\n",
    "clf = nb.GaussianNB()\n",
    "clf.fit(X_train, y_train)\n",
    "Y_Pred_nb = clf.predict(X_test)\n",
    "nb_acc = accuracy_score(y_test, Y_Pred_nb)\n",
    "from sklearn.metrics import classification_report\n",
    "target_names = ['class 0', 'class 1']\n",
    "print(classification_report(y_test, Y_Pred_nb , target_names=target_names))\n",
    "print('Accuracy Score: ', nb_acc)"
   ]
  },
  {
   "cell_type": "markdown",
   "id": "e876ffe5",
   "metadata": {},
   "source": [
    "# Ridge Classification"
   ]
  },
  {
   "cell_type": "code",
   "execution_count": 171,
   "id": "83e9ca71",
   "metadata": {},
   "outputs": [
    {
     "name": "stdout",
     "output_type": "stream",
     "text": [
      "              precision    recall  f1-score   support\n",
      "\n",
      "     class 0       0.75      0.49      0.59       540\n",
      "     class 1       0.72      0.89      0.79       784\n",
      "\n",
      "    accuracy                           0.73      1324\n",
      "   macro avg       0.74      0.69      0.69      1324\n",
      "weighted avg       0.73      0.73      0.71      1324\n",
      "\n",
      "Accuracy Score:  0.7273413897280967\n"
     ]
    }
   ],
   "source": [
    "from sklearn.linear_model import RidgeClassifier\n",
    "from sklearn.metrics import accuracy_score\n",
    "\n",
    "clf = RidgeClassifier(alpha=1.0)\n",
    "clf.fit(X_train, y_train)\n",
    "Y_Pred_ridge = clf.predict(X_test)\n",
    "ridge_acc = accuracy_score(y_test, Y_Pred_ridge)\n",
    "from sklearn.metrics import classification_report\n",
    "target_names = ['class 0', 'class 1']\n",
    "print(classification_report(y_test, Y_Pred_ridge , target_names=target_names))\n",
    "print('Accuracy Score: ', ridge_acc)"
   ]
  },
  {
   "cell_type": "markdown",
   "id": "d43e4e29",
   "metadata": {},
   "source": [
    "# Decision Tree Classification"
   ]
  },
  {
   "cell_type": "code",
   "execution_count": 172,
   "id": "47689d1c",
   "metadata": {
    "scrolled": true
   },
   "outputs": [
    {
     "name": "stdout",
     "output_type": "stream",
     "text": [
      "              precision    recall  f1-score   support\n",
      "\n",
      "     class 0       0.57      0.61      0.59       540\n",
      "     class 1       0.72      0.68      0.70       784\n",
      "\n",
      "    accuracy                           0.65      1324\n",
      "   macro avg       0.64      0.65      0.64      1324\n",
      "weighted avg       0.66      0.65      0.66      1324\n",
      "\n",
      "Accuracy Score:  0.6533232628398792\n"
     ]
    }
   ],
   "source": [
    "import sklearn.tree as tree\n",
    "from sklearn.metrics import accuracy_score\n",
    "\n",
    "clf = tree.DecisionTreeClassifier()\n",
    "clf.fit(X_train, y_train)\n",
    "Y_Pred_dt = clf.predict(X_test)\n",
    "dt_acc = accuracy_score(y_test, Y_Pred_dt)\n",
    "from sklearn.metrics import classification_report\n",
    "target_names = ['class 0', 'class 1']\n",
    "print(classification_report(y_test, Y_Pred_dt , target_names=target_names))\n",
    "print('Accuracy Score: ', dt_acc)"
   ]
  },
  {
   "cell_type": "markdown",
   "id": "ad0950da",
   "metadata": {},
   "source": [
    "# QDA Classification"
   ]
  },
  {
   "cell_type": "code",
   "execution_count": 173,
   "id": "af2cc96c",
   "metadata": {
    "scrolled": true
   },
   "outputs": [
    {
     "name": "stdout",
     "output_type": "stream",
     "text": [
      "              precision    recall  f1-score   support\n",
      "\n",
      "     class 0       0.72      0.53      0.61       540\n",
      "     class 1       0.72      0.86      0.79       784\n",
      "\n",
      "    accuracy                           0.72      1324\n",
      "   macro avg       0.72      0.69      0.70      1324\n",
      "weighted avg       0.72      0.72      0.71      1324\n",
      "\n",
      "Accuracy Score:  0.722809667673716\n"
     ]
    }
   ],
   "source": [
    "import sklearn.discriminant_analysis as da\n",
    "from sklearn.metrics import accuracy_score\n",
    "\n",
    "clf = da.QuadraticDiscriminantAnalysis()\n",
    "clf.fit(X_train, y_train)\n",
    "Y_Pred_qda = clf.predict(X_test)\n",
    "qda_acc = accuracy_score(y_test, Y_Pred_qda)\n",
    "from sklearn.metrics import classification_report\n",
    "target_names = ['class 0', 'class 1']\n",
    "print(classification_report(y_test, Y_Pred_qda , target_names=target_names))\n",
    "print('Accuracy Score: ', qda_acc)"
   ]
  },
  {
   "cell_type": "markdown",
   "id": "e02c2bf5",
   "metadata": {},
   "source": [
    "# Extra Tree Classification"
   ]
  },
  {
   "cell_type": "code",
   "execution_count": 174,
   "id": "99ee8e24",
   "metadata": {
    "scrolled": true
   },
   "outputs": [
    {
     "name": "stdout",
     "output_type": "stream",
     "text": [
      "              precision    recall  f1-score   support\n",
      "\n",
      "     class 0       0.75      0.64      0.69       540\n",
      "     class 1       0.77      0.85      0.81       784\n",
      "\n",
      "    accuracy                           0.77      1324\n",
      "   macro avg       0.76      0.75      0.75      1324\n",
      "weighted avg       0.76      0.77      0.76      1324\n",
      "\n",
      "Accuracy Score:  0.7651057401812689\n"
     ]
    }
   ],
   "source": [
    "import sklearn.ensemble as ensemble\n",
    "from sklearn.metrics import accuracy_score\n",
    "\n",
    "clf = ensemble.ExtraTreesClassifier(n_estimators=100, random_state=42)\n",
    "clf.fit(X_train, y_train)\n",
    "Y_Pred_extra = clf.predict(X_test)\n",
    "extra_acc = accuracy_score(y_test, Y_Pred_extra)\n",
    "from sklearn.metrics import classification_report\n",
    "target_names = ['class 0', 'class 1']\n",
    "print(classification_report(y_test, Y_Pred_extra, target_names=target_names))\n",
    "print('Accuracy Score: ', extra_acc)"
   ]
  },
  {
   "cell_type": "markdown",
   "id": "09cfe55e",
   "metadata": {},
   "source": [
    "# LDA Classifier"
   ]
  },
  {
   "cell_type": "code",
   "execution_count": 175,
   "id": "e88d17a1",
   "metadata": {
    "scrolled": true
   },
   "outputs": [
    {
     "name": "stdout",
     "output_type": "stream",
     "text": [
      "              precision    recall  f1-score   support\n",
      "\n",
      "     class 0       0.75      0.49      0.60       540\n",
      "     class 1       0.72      0.89      0.79       784\n",
      "\n",
      "    accuracy                           0.73      1324\n",
      "   macro avg       0.73      0.69      0.69      1324\n",
      "weighted avg       0.73      0.73      0.71      1324\n",
      "\n",
      "Accuracy Score:  0.7265861027190332\n"
     ]
    }
   ],
   "source": [
    "import sklearn.discriminant_analysis as da\n",
    "from sklearn.metrics import accuracy_score\n",
    "\n",
    "clf = da.LinearDiscriminantAnalysis()\n",
    "clf.fit(X_train, y_train)\n",
    "Y_Pred_lda = clf.predict(X_test)\n",
    "lda_acc = accuracy_score(y_test, Y_Pred_lda)\n",
    "from sklearn.metrics import classification_report\n",
    "target_names = ['class 0', 'class 1']\n",
    "print(classification_report(y_test, Y_Pred_lda , target_names=target_names))\n",
    "print('Accuracy Score: ', lda_acc)"
   ]
  },
  {
   "cell_type": "code",
   "execution_count": 176,
   "id": "3726e77a",
   "metadata": {},
   "outputs": [
    {
     "data": {
      "text/html": [
       "<div>\n",
       "<style scoped>\n",
       "    .dataframe tbody tr th:only-of-type {\n",
       "        vertical-align: middle;\n",
       "    }\n",
       "\n",
       "    .dataframe tbody tr th {\n",
       "        vertical-align: top;\n",
       "    }\n",
       "\n",
       "    .dataframe thead th {\n",
       "        text-align: right;\n",
       "    }\n",
       "</style>\n",
       "<table border=\"1\" class=\"dataframe\">\n",
       "  <thead>\n",
       "    <tr style=\"text-align: right;\">\n",
       "      <th></th>\n",
       "      <th>Model</th>\n",
       "      <th>Accuracy Score</th>\n",
       "    </tr>\n",
       "  </thead>\n",
       "  <tbody>\n",
       "    <tr>\n",
       "      <th>0</th>\n",
       "      <td>Random Forest Classifier</td>\n",
       "      <td>76.057402</td>\n",
       "    </tr>\n",
       "    <tr>\n",
       "      <th>1</th>\n",
       "      <td>Support Vector Classifier</td>\n",
       "      <td>72.583082</td>\n",
       "    </tr>\n",
       "    <tr>\n",
       "      <th>2</th>\n",
       "      <td>Bagging Classifier</td>\n",
       "      <td>75.377644</td>\n",
       "    </tr>\n",
       "    <tr>\n",
       "      <th>3</th>\n",
       "      <td>Gradient Boosting Classifier</td>\n",
       "      <td>73.413897</td>\n",
       "    </tr>\n",
       "    <tr>\n",
       "      <th>4</th>\n",
       "      <td>ADA Boost Classifier</td>\n",
       "      <td>75.000000</td>\n",
       "    </tr>\n",
       "    <tr>\n",
       "      <th>5</th>\n",
       "      <td>K Neighbors Classifier</td>\n",
       "      <td>68.580060</td>\n",
       "    </tr>\n",
       "    <tr>\n",
       "      <th>6</th>\n",
       "      <td>Naive Bayes Classifier</td>\n",
       "      <td>68.504532</td>\n",
       "    </tr>\n",
       "    <tr>\n",
       "      <th>7</th>\n",
       "      <td>Ridge Classifier</td>\n",
       "      <td>72.734139</td>\n",
       "    </tr>\n",
       "    <tr>\n",
       "      <th>8</th>\n",
       "      <td>Decision Tree Classifier</td>\n",
       "      <td>65.332326</td>\n",
       "    </tr>\n",
       "    <tr>\n",
       "      <th>9</th>\n",
       "      <td>Quadratic Discriminant Analysis (QDA) Classifier</td>\n",
       "      <td>72.280967</td>\n",
       "    </tr>\n",
       "    <tr>\n",
       "      <th>10</th>\n",
       "      <td>Extra Tree Classifier</td>\n",
       "      <td>76.510574</td>\n",
       "    </tr>\n",
       "    <tr>\n",
       "      <th>11</th>\n",
       "      <td>Linear Discriminant Analysis (LDA) Classifier</td>\n",
       "      <td>72.658610</td>\n",
       "    </tr>\n",
       "  </tbody>\n",
       "</table>\n",
       "</div>"
      ],
      "text/plain": [
       "                                               Model  Accuracy Score\n",
       "0                           Random Forest Classifier       76.057402\n",
       "1                          Support Vector Classifier       72.583082\n",
       "2                                 Bagging Classifier       75.377644\n",
       "3                       Gradient Boosting Classifier       73.413897\n",
       "4                               ADA Boost Classifier       75.000000\n",
       "5                             K Neighbors Classifier       68.580060\n",
       "6                             Naive Bayes Classifier       68.504532\n",
       "7                                   Ridge Classifier       72.734139\n",
       "8                           Decision Tree Classifier       65.332326\n",
       "9   Quadratic Discriminant Analysis (QDA) Classifier       72.280967\n",
       "10                             Extra Tree Classifier       76.510574\n",
       "11     Linear Discriminant Analysis (LDA) Classifier       72.658610"
      ]
     },
     "execution_count": 176,
     "metadata": {},
     "output_type": "execute_result"
    }
   ],
   "source": [
    "# Create comparison matrix of accuracy scores\n",
    "Model_Evaluation_Comparison_Matrix = pd.DataFrame({'Model':['Random Forest Classifier','Support Vector Classifier','Bagging Classifier','Gradient Boosting Classifier','ADA Boost Classifier','K Neighbors Classifier','Naive Bayes Classifier','Ridge Classifier','Decision Tree Classifier','Quadratic Discriminant Analysis (QDA) Classifier','Extra Tree Classifier',' Linear Discriminant Analysis (LDA) Classifier']\n",
    "                                                  ,0:[(rfc_acc*100),(svc_acc*100),(bc_acc*100),(gbc_acc*100),(ada_acc*100),(acc_test*100),(nb_acc*100),(ridge_acc*100),(dt_acc*100),(qda_acc*100),(extra_acc*100),(lda_acc*100)]})\n",
    "Model_Evaluation_Comparison_Matrix= Model_Evaluation_Comparison_Matrix.rename(columns={0:'Accuracy Score'})\n",
    "Model_Evaluation_Comparison_Matrix"
   ]
  }
 ],
 "metadata": {
  "kernelspec": {
   "display_name": "Python 3 (ipykernel)",
   "language": "python",
   "name": "python3"
  },
  "language_info": {
   "codemirror_mode": {
    "name": "ipython",
    "version": 3
   },
   "file_extension": ".py",
   "mimetype": "text/x-python",
   "name": "python",
   "nbconvert_exporter": "python",
   "pygments_lexer": "ipython3",
   "version": "3.10.9"
  }
 },
 "nbformat": 4,
 "nbformat_minor": 5
}
